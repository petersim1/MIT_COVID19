{
 "cells": [
  {
   "cell_type": "code",
   "execution_count": 158,
   "metadata": {},
   "outputs": [],
   "source": [
    "%matplotlib inline\n",
    "\n",
    "import numpy as np\n",
    "import pandas as pd\n",
    "import matplotlib.pyplot as plt\n",
    "import math"
   ]
  },
  {
   "cell_type": "code",
   "execution_count": 143,
   "metadata": {},
   "outputs": [
    {
     "data": {
      "text/plain": [
       "Unique_ID                               object\n",
       "date                                    object\n",
       "county                                  object\n",
       "state                                   object\n",
       "fips                                   float64\n",
       "cases                                    int64\n",
       "deaths                                   int64\n",
       "Latitude                               float64\n",
       "Longitude                              float64\n",
       "Total_Hospital_Beds                     object\n",
       "Total_ICU_Beds                          object\n",
       "Available_Hospital_Beds                 object\n",
       "Potentially_Available_Hospital_Beds     object\n",
       "Available_ICU_Beds                     float64\n",
       "Potentially_Available_ICU_Beds          object\n",
       "Adult_Population                        object\n",
       "Population_65+                          object\n",
       "Area_(sqmi)                            float64\n",
       "Population                             float64\n",
       "dtype: object"
      ]
     },
     "execution_count": 143,
     "metadata": {},
     "output_type": "execute_result"
    }
   ],
   "source": [
    "DF = pd.read_csv('data_cleaned/MERGED_PETER.csv')\n",
    "\n",
    "DF = DF[~pd.isna(DF['Population'])]\n",
    "DF = DF[~pd.isna(DF['Area_(sqmi)'])].reset_index(drop=True)\n",
    "DF.dtypes"
   ]
  },
  {
   "cell_type": "code",
   "execution_count": 144,
   "metadata": {},
   "outputs": [
    {
     "data": {
      "text/plain": [
       "Unique_ID                               object\n",
       "date                                    object\n",
       "county                                  object\n",
       "state                                   object\n",
       "fips                                   float64\n",
       "cases                                  float64\n",
       "deaths                                 float64\n",
       "Latitude                               float64\n",
       "Longitude                              float64\n",
       "Total_Hospital_Beds                    float64\n",
       "Total_ICU_Beds                         float64\n",
       "Available_Hospital_Beds                float64\n",
       "Potentially_Available_Hospital_Beds    float64\n",
       "Available_ICU_Beds                     float64\n",
       "Potentially_Available_ICU_Beds         float64\n",
       "Adult_Population                       float64\n",
       "Population_65+                         float64\n",
       "Area_(sqmi)                            float64\n",
       "Population                             float64\n",
       "dtype: object"
      ]
     },
     "execution_count": 144,
     "metadata": {},
     "output_type": "execute_result"
    }
   ],
   "source": [
    "for col in DF.columns[5:] :\n",
    "    DF[col] = DF[col].apply(lambda x : float(str(x).replace(',','')))\n",
    "DF.dtypes"
   ]
  },
  {
   "cell_type": "code",
   "execution_count": 145,
   "metadata": {},
   "outputs": [],
   "source": [
    "hospital_ids = np.unique(DF.loc[~pd.isna(DF['Total_Hospital_Beds']),['Unique_ID']].values)\n",
    "\n",
    "item_seen = []\n",
    "hospital_locations = []\n",
    "for i,v in DF.iterrows() :\n",
    "    if v['Unique_ID'] in hospital_ids :\n",
    "        if v['Unique_ID'] not in item_seen :\n",
    "            item_seen.append(v['Unique_ID'])\n",
    "            hospital_locations.append([v['Latitude'],v['Longitude']])\n"
   ]
  },
  {
   "cell_type": "code",
   "execution_count": 146,
   "metadata": {},
   "outputs": [],
   "source": [
    "DF['Pop_Density'] = DF['Population']/DF['Area_(sqmi)']"
   ]
  },
  {
   "cell_type": "code",
   "execution_count": 153,
   "metadata": {},
   "outputs": [],
   "source": [
    "big_city_ids = set(DF[DF['Pop_Density'] >= 3000]['Unique_ID'])\n",
    "\n",
    "item_seen = []\n",
    "big_city_locations = []\n",
    "for i,v in DF.iterrows() :\n",
    "    if v['Unique_ID'] in big_city_ids :\n",
    "        if v['Unique_ID'] not in item_seen :\n",
    "            item_seen.append(v['Unique_ID'])\n",
    "            big_city_locations.append([v['Latitude'],v['Longitude']])\n"
   ]
  },
  {
   "cell_type": "code",
   "execution_count": 173,
   "metadata": {},
   "outputs": [],
   "source": [
    "def Proximity(location_x,location_y,city_loc,hospital_loc) :\n",
    "    \n",
    "    min_distance_city = 1e10\n",
    "    for loc in city_loc :\n",
    "        dis = np.sqrt((loc[0] - location_x)**2 + (loc[1] - location_y)**2)\n",
    "        if dis < min_distance_city :\n",
    "            min_distance_city = dis\n",
    "            \n",
    "    min_distance_hosp = 1e10\n",
    "    for loc in hospital_loc :\n",
    "        dis = np.sqrt((loc[0] - location_x)**2 + (loc[1] - location_y)**2)\n",
    "        if dis < min_distance_hosp :\n",
    "            min_distance_hosp = dis\n",
    "            \n",
    "    return min_distance_city,min_distance_hosp"
   ]
  },
  {
   "cell_type": "code",
   "execution_count": 177,
   "metadata": {},
   "outputs": [
    {
     "name": "stdout",
     "output_type": "stream",
     "text": [
      "0\n",
      "500\n",
      "1000\n",
      "1500\n",
      "2000\n",
      "2500\n",
      "3000\n",
      "3500\n",
      "4000\n",
      "4500\n",
      "5000\n",
      "5500\n",
      "6000\n",
      "6500\n",
      "7000\n",
      "7500\n",
      "8000\n",
      "8500\n",
      "9000\n",
      "9500\n",
      "10000\n",
      "10500\n",
      "11000\n",
      "11500\n",
      "12000\n",
      "12500\n",
      "13000\n",
      "13500\n",
      "14000\n",
      "14500\n",
      "15000\n",
      "15500\n",
      "16000\n",
      "16500\n",
      "17000\n",
      "17500\n",
      "18000\n",
      "18500\n",
      "19000\n",
      "19500\n",
      "20000\n",
      "20500\n",
      "21000\n",
      "21500\n",
      "22000\n",
      "22500\n",
      "23000\n",
      "23500\n",
      "24000\n",
      "24500\n",
      "25000\n",
      "25500\n",
      "26000\n",
      "26500\n"
     ]
    }
   ],
   "source": [
    "nearest_big_city,nearest_hospital = [],[]\n",
    "for i,v in DF.iterrows() :\n",
    "    if i%500 == 0 :print(i)\n",
    "    cit,hos = Proximity(v['Latitude'],v['Longitude'],big_city_locations,hospital_locations)\n",
    "    nearest_big_city.append(cit)\n",
    "    nearest_hospital.append(hos)\n",
    "\n",
    "DF['Nearest_Hospital'] = nearest_hospital\n",
    "DF['Nearest_BigCity'] = nearest_big_city"
   ]
  },
  {
   "cell_type": "code",
   "execution_count": 179,
   "metadata": {},
   "outputs": [],
   "source": [
    "DF.to_csv('data_cleaned/Distance_Calculations.csv',index=False)"
   ]
  },
  {
   "cell_type": "code",
   "execution_count": null,
   "metadata": {},
   "outputs": [],
   "source": []
  }
 ],
 "metadata": {
  "kernelspec": {
   "display_name": "Python 3",
   "language": "python",
   "name": "python3"
  },
  "language_info": {
   "codemirror_mode": {
    "name": "ipython",
    "version": 3
   },
   "file_extension": ".py",
   "mimetype": "text/x-python",
   "name": "python",
   "nbconvert_exporter": "python",
   "pygments_lexer": "ipython3",
   "version": "3.6.8"
  }
 },
 "nbformat": 4,
 "nbformat_minor": 4
}
