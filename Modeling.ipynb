{
 "cells": [
  {
   "cell_type": "code",
   "execution_count": 200,
   "metadata": {},
   "outputs": [],
   "source": [
    "%matplotlib inline\n",
    "\n",
    "import numpy as np\n",
    "import pandas as pd\n",
    "import matplotlib.pyplot as plt\n",
    "import datetime"
   ]
  },
  {
   "cell_type": "code",
   "execution_count": 143,
   "metadata": {},
   "outputs": [
    {
     "data": {
      "text/plain": [
       "Unique_ID                               object\n",
       "date                                    object\n",
       "county                                  object\n",
       "state                                   object\n",
       "fips                                   float64\n",
       "cases                                    int64\n",
       "deaths                                   int64\n",
       "Latitude                               float64\n",
       "Longitude                              float64\n",
       "Total_Hospital_Beds                     object\n",
       "Total_ICU_Beds                          object\n",
       "Available_Hospital_Beds                 object\n",
       "Potentially_Available_Hospital_Beds     object\n",
       "Available_ICU_Beds                     float64\n",
       "Potentially_Available_ICU_Beds          object\n",
       "Adult_Population                        object\n",
       "Population_65+                          object\n",
       "Area_(sqmi)                            float64\n",
       "Population                             float64\n",
       "dtype: object"
      ]
     },
     "execution_count": 143,
     "metadata": {},
     "output_type": "execute_result"
    }
   ],
   "source": [
    "DF = pd.read_csv('data_cleaned/MERGED_PETER.csv')\n",
    "\n",
    "DF = DF[~pd.isna(DF['Population'])]\n",
    "DF = DF[~pd.isna(DF['Area_(sqmi)'])].reset_index(drop=True)\n",
    "DF.dtypes"
   ]
  },
  {
   "cell_type": "code",
   "execution_count": 144,
   "metadata": {},
   "outputs": [
    {
     "data": {
      "text/plain": [
       "Unique_ID                               object\n",
       "date                                    object\n",
       "county                                  object\n",
       "state                                   object\n",
       "fips                                   float64\n",
       "cases                                  float64\n",
       "deaths                                 float64\n",
       "Latitude                               float64\n",
       "Longitude                              float64\n",
       "Total_Hospital_Beds                    float64\n",
       "Total_ICU_Beds                         float64\n",
       "Available_Hospital_Beds                float64\n",
       "Potentially_Available_Hospital_Beds    float64\n",
       "Available_ICU_Beds                     float64\n",
       "Potentially_Available_ICU_Beds         float64\n",
       "Adult_Population                       float64\n",
       "Population_65+                         float64\n",
       "Area_(sqmi)                            float64\n",
       "Population                             float64\n",
       "dtype: object"
      ]
     },
     "execution_count": 144,
     "metadata": {},
     "output_type": "execute_result"
    }
   ],
   "source": [
    "for col in DF.columns[5:] :\n",
    "    DF[col] = DF[col].apply(lambda x : float(str(x).replace(',','')))\n",
    "DF.dtypes"
   ]
  },
  {
   "cell_type": "code",
   "execution_count": 145,
   "metadata": {},
   "outputs": [],
   "source": [
    "hospital_ids = np.unique(DF.loc[~pd.isna(DF['Total_Hospital_Beds']),['Unique_ID']].values)\n",
    "\n",
    "item_seen = []\n",
    "hospital_locations = []\n",
    "for i,v in DF.iterrows() :\n",
    "    if v['Unique_ID'] in hospital_ids :\n",
    "        if v['Unique_ID'] not in item_seen :\n",
    "            item_seen.append(v['Unique_ID'])\n",
    "            hospital_locations.append([v['Latitude'],v['Longitude']])\n"
   ]
  },
  {
   "cell_type": "code",
   "execution_count": 146,
   "metadata": {},
   "outputs": [],
   "source": [
    "DF['Pop_Density'] = DF['Population']/DF['Area_(sqmi)']"
   ]
  },
  {
   "cell_type": "code",
   "execution_count": 153,
   "metadata": {},
   "outputs": [],
   "source": [
    "big_city_ids = set(DF[DF['Pop_Density'] >= 3000]['Unique_ID'])\n",
    "\n",
    "item_seen = []\n",
    "big_city_locations = []\n",
    "for i,v in DF.iterrows() :\n",
    "    if v['Unique_ID'] in big_city_ids :\n",
    "        if v['Unique_ID'] not in item_seen :\n",
    "            item_seen.append(v['Unique_ID'])\n",
    "            big_city_locations.append([v['Latitude'],v['Longitude']])\n"
   ]
  },
  {
   "cell_type": "code",
   "execution_count": 173,
   "metadata": {},
   "outputs": [],
   "source": [
    "def Proximity(location_x,location_y,city_loc,hospital_loc) :\n",
    "    \n",
    "    min_distance_city = 1e10\n",
    "    for loc in city_loc :\n",
    "        dis = np.sqrt((loc[0] - location_x)**2 + (loc[1] - location_y)**2)\n",
    "        if dis < min_distance_city :\n",
    "            min_distance_city = dis\n",
    "            \n",
    "    min_distance_hosp = 1e10\n",
    "    for loc in hospital_loc :\n",
    "        dis = np.sqrt((loc[0] - location_x)**2 + (loc[1] - location_y)**2)\n",
    "        if dis < min_distance_hosp :\n",
    "            min_distance_hosp = dis\n",
    "            \n",
    "    return min_distance_city,min_distance_hosp"
   ]
  },
  {
   "cell_type": "code",
   "execution_count": 180,
   "metadata": {},
   "outputs": [
    {
     "name": "stdout",
     "output_type": "stream",
     "text": [
      "0,500,1000,1500,2000,2500,3000,3500,4000,4500,5000,5500,6000,6500,7000,7500,8000,8500,9000,9500,10000,10500,11000,11500,12000,12500,13000,13500,14000,14500,15000,15500,16000,16500,17000,17500,18000,18500,19000,19500,20000,20500,21000,21500,22000,22500,23000,23500,24000,24500,25000,25500,26000,26500,"
     ]
    }
   ],
   "source": [
    "nearest_big_city,nearest_hospital = [],[]\n",
    "for i,v in DF.iterrows() :\n",
    "    if i%500 == 0 :print(i,end=',')\n",
    "    cit,hos = Proximity(v['Latitude'],v['Longitude'],big_city_locations,hospital_locations)\n",
    "    nearest_big_city.append(cit)\n",
    "    nearest_hospital.append(hos)\n",
    "\n",
    "DF['Nearest_Hospital'] = nearest_hospital\n",
    "DF['Nearest_BigCity'] = nearest_big_city"
   ]
  },
  {
   "cell_type": "code",
   "execution_count": 179,
   "metadata": {},
   "outputs": [],
   "source": [
    "DF.to_csv('data_cleaned/Distance_Calculations.csv',index=False)"
   ]
  },
  {
   "cell_type": "code",
   "execution_count": null,
   "metadata": {},
   "outputs": [],
   "source": []
  },
  {
   "cell_type": "code",
   "execution_count": null,
   "metadata": {},
   "outputs": [],
   "source": []
  },
  {
   "cell_type": "code",
   "execution_count": 249,
   "metadata": {},
   "outputs": [],
   "source": [
    "## Read in Steve's lagged dataframe\n",
    "\n",
    "DF = pd.read_csv('output/MASTER_filtered_withlag.csv')"
   ]
  },
  {
   "cell_type": "code",
   "execution_count": 250,
   "metadata": {},
   "outputs": [
    {
     "data": {
      "text/html": [
       "<div>\n",
       "<style scoped>\n",
       "    .dataframe tbody tr th:only-of-type {\n",
       "        vertical-align: middle;\n",
       "    }\n",
       "\n",
       "    .dataframe tbody tr th {\n",
       "        vertical-align: top;\n",
       "    }\n",
       "\n",
       "    .dataframe thead th {\n",
       "        text-align: right;\n",
       "    }\n",
       "</style>\n",
       "<table border=\"1\" class=\"dataframe\">\n",
       "  <thead>\n",
       "    <tr style=\"text-align: right;\">\n",
       "      <th></th>\n",
       "      <th>Unique_ID</th>\n",
       "      <th>date</th>\n",
       "      <th>county</th>\n",
       "      <th>state</th>\n",
       "      <th>fips</th>\n",
       "      <th>cases</th>\n",
       "      <th>deaths</th>\n",
       "      <th>Latitude</th>\n",
       "      <th>Longitude</th>\n",
       "      <th>Total_Hospital_Beds</th>\n",
       "      <th>...</th>\n",
       "      <th>Adult_Population</th>\n",
       "      <th>Population_65.</th>\n",
       "      <th>Area_.sqmi.</th>\n",
       "      <th>Population</th>\n",
       "      <th>Pop_Density</th>\n",
       "      <th>Nearest_Hospital</th>\n",
       "      <th>Nearest_BigCity</th>\n",
       "      <th>day_before_index</th>\n",
       "      <th>day_before_cases</th>\n",
       "      <th>day_before_deaths</th>\n",
       "    </tr>\n",
       "  </thead>\n",
       "  <tbody>\n",
       "    <tr>\n",
       "      <th>4761</th>\n",
       "      <td>Abbeville_South Carolina</td>\n",
       "      <td>2020-03-19</td>\n",
       "      <td>Abbeville</td>\n",
       "      <td>South Carolina</td>\n",
       "      <td>45001.0</td>\n",
       "      <td>1</td>\n",
       "      <td>0</td>\n",
       "      <td>34.223334</td>\n",
       "      <td>-82.461707</td>\n",
       "      <td>NaN</td>\n",
       "      <td>...</td>\n",
       "      <td>NaN</td>\n",
       "      <td>NaN</td>\n",
       "      <td>511.0</td>\n",
       "      <td>24527</td>\n",
       "      <td>47.998043</td>\n",
       "      <td>0.677528</td>\n",
       "      <td>6.297428</td>\n",
       "      <td>2020-03-18</td>\n",
       "      <td>NaN</td>\n",
       "      <td>NaN</td>\n",
       "    </tr>\n",
       "    <tr>\n",
       "      <th>5574</th>\n",
       "      <td>Abbeville_South Carolina</td>\n",
       "      <td>2020-03-20</td>\n",
       "      <td>Abbeville</td>\n",
       "      <td>South Carolina</td>\n",
       "      <td>45001.0</td>\n",
       "      <td>1</td>\n",
       "      <td>0</td>\n",
       "      <td>34.223334</td>\n",
       "      <td>-82.461707</td>\n",
       "      <td>NaN</td>\n",
       "      <td>...</td>\n",
       "      <td>NaN</td>\n",
       "      <td>NaN</td>\n",
       "      <td>511.0</td>\n",
       "      <td>24527</td>\n",
       "      <td>47.998043</td>\n",
       "      <td>0.677528</td>\n",
       "      <td>6.297428</td>\n",
       "      <td>2020-03-19</td>\n",
       "      <td>1.0</td>\n",
       "      <td>0.0</td>\n",
       "    </tr>\n",
       "    <tr>\n",
       "      <th>6504</th>\n",
       "      <td>Abbeville_South Carolina</td>\n",
       "      <td>2020-03-21</td>\n",
       "      <td>Abbeville</td>\n",
       "      <td>South Carolina</td>\n",
       "      <td>45001.0</td>\n",
       "      <td>1</td>\n",
       "      <td>0</td>\n",
       "      <td>34.223334</td>\n",
       "      <td>-82.461707</td>\n",
       "      <td>NaN</td>\n",
       "      <td>...</td>\n",
       "      <td>NaN</td>\n",
       "      <td>NaN</td>\n",
       "      <td>511.0</td>\n",
       "      <td>24527</td>\n",
       "      <td>47.998043</td>\n",
       "      <td>0.677528</td>\n",
       "      <td>6.297428</td>\n",
       "      <td>2020-03-20</td>\n",
       "      <td>1.0</td>\n",
       "      <td>0.0</td>\n",
       "    </tr>\n",
       "    <tr>\n",
       "      <th>7543</th>\n",
       "      <td>Abbeville_South Carolina</td>\n",
       "      <td>2020-03-22</td>\n",
       "      <td>Abbeville</td>\n",
       "      <td>South Carolina</td>\n",
       "      <td>45001.0</td>\n",
       "      <td>1</td>\n",
       "      <td>0</td>\n",
       "      <td>34.223334</td>\n",
       "      <td>-82.461707</td>\n",
       "      <td>NaN</td>\n",
       "      <td>...</td>\n",
       "      <td>NaN</td>\n",
       "      <td>NaN</td>\n",
       "      <td>511.0</td>\n",
       "      <td>24527</td>\n",
       "      <td>47.998043</td>\n",
       "      <td>0.677528</td>\n",
       "      <td>6.297428</td>\n",
       "      <td>2020-03-21</td>\n",
       "      <td>1.0</td>\n",
       "      <td>0.0</td>\n",
       "    </tr>\n",
       "    <tr>\n",
       "      <th>8664</th>\n",
       "      <td>Abbeville_South Carolina</td>\n",
       "      <td>2020-03-23</td>\n",
       "      <td>Abbeville</td>\n",
       "      <td>South Carolina</td>\n",
       "      <td>45001.0</td>\n",
       "      <td>1</td>\n",
       "      <td>0</td>\n",
       "      <td>34.223334</td>\n",
       "      <td>-82.461707</td>\n",
       "      <td>NaN</td>\n",
       "      <td>...</td>\n",
       "      <td>NaN</td>\n",
       "      <td>NaN</td>\n",
       "      <td>511.0</td>\n",
       "      <td>24527</td>\n",
       "      <td>47.998043</td>\n",
       "      <td>0.677528</td>\n",
       "      <td>6.297428</td>\n",
       "      <td>2020-03-22</td>\n",
       "      <td>1.0</td>\n",
       "      <td>0.0</td>\n",
       "    </tr>\n",
       "  </tbody>\n",
       "</table>\n",
       "<p>5 rows × 25 columns</p>\n",
       "</div>"
      ],
      "text/plain": [
       "                     Unique_ID        date     county           state  \\\n",
       "4761  Abbeville_South Carolina  2020-03-19  Abbeville  South Carolina   \n",
       "5574  Abbeville_South Carolina  2020-03-20  Abbeville  South Carolina   \n",
       "6504  Abbeville_South Carolina  2020-03-21  Abbeville  South Carolina   \n",
       "7543  Abbeville_South Carolina  2020-03-22  Abbeville  South Carolina   \n",
       "8664  Abbeville_South Carolina  2020-03-23  Abbeville  South Carolina   \n",
       "\n",
       "         fips  cases  deaths   Latitude  Longitude  Total_Hospital_Beds  ...  \\\n",
       "4761  45001.0      1       0  34.223334 -82.461707                  NaN  ...   \n",
       "5574  45001.0      1       0  34.223334 -82.461707                  NaN  ...   \n",
       "6504  45001.0      1       0  34.223334 -82.461707                  NaN  ...   \n",
       "7543  45001.0      1       0  34.223334 -82.461707                  NaN  ...   \n",
       "8664  45001.0      1       0  34.223334 -82.461707                  NaN  ...   \n",
       "\n",
       "      Adult_Population  Population_65.  Area_.sqmi.  Population  Pop_Density  \\\n",
       "4761               NaN             NaN        511.0       24527    47.998043   \n",
       "5574               NaN             NaN        511.0       24527    47.998043   \n",
       "6504               NaN             NaN        511.0       24527    47.998043   \n",
       "7543               NaN             NaN        511.0       24527    47.998043   \n",
       "8664               NaN             NaN        511.0       24527    47.998043   \n",
       "\n",
       "      Nearest_Hospital  Nearest_BigCity  day_before_index  day_before_cases  \\\n",
       "4761          0.677528         6.297428        2020-03-18               NaN   \n",
       "5574          0.677528         6.297428        2020-03-19               1.0   \n",
       "6504          0.677528         6.297428        2020-03-20               1.0   \n",
       "7543          0.677528         6.297428        2020-03-21               1.0   \n",
       "8664          0.677528         6.297428        2020-03-22               1.0   \n",
       "\n",
       "      day_before_deaths  \n",
       "4761                NaN  \n",
       "5574                0.0  \n",
       "6504                0.0  \n",
       "7543                0.0  \n",
       "8664                0.0  \n",
       "\n",
       "[5 rows x 25 columns]"
      ]
     },
     "execution_count": 250,
     "metadata": {},
     "output_type": "execute_result"
    }
   ],
   "source": [
    "DF.sort_values(['Unique_ID','date']).head()"
   ]
  },
  {
   "cell_type": "code",
   "execution_count": 251,
   "metadata": {},
   "outputs": [],
   "source": [
    "ind_holdout = []\n",
    "\n",
    "unique_ids = DF['Unique_ID'].unique()\n",
    "holdouts = {}\n",
    "\n",
    "for county in unique_ids :\n",
    "    \n",
    "    subbed = DF[DF['Unique_ID'] == county]\n",
    "    to_hold = sorted(subbed['date'])[-2:]\n",
    "    holdouts[county] = to_hold\n",
    "\n",
    "holdout_indices = []\n",
    "for i,v in DF.iterrows() :\n",
    "    \n",
    "    unique_id = v['Unique_ID']\n",
    "    if v['date'] in holdouts[unique_id] :\n",
    "        holdout_indices.append(i)\n",
    "        \n",
    "    "
   ]
  },
  {
   "cell_type": "code",
   "execution_count": 252,
   "metadata": {},
   "outputs": [],
   "source": [
    "Holdout_Set = DF.iloc[holdout_indices].reset_index(drop=True)"
   ]
  },
  {
   "cell_type": "code",
   "execution_count": 253,
   "metadata": {},
   "outputs": [],
   "source": [
    "indices_train = np.setdiff1d(list(DF.index),holdout_indices)\n",
    "\n",
    "Training_Set = DF.iloc[indices_train].reset_index(drop=True)"
   ]
  },
  {
   "cell_type": "code",
   "execution_count": 254,
   "metadata": {},
   "outputs": [
    {
     "data": {
      "text/plain": [
       "Index(['Unique_ID', 'date', 'county', 'state', 'fips', 'cases', 'deaths',\n",
       "       'Latitude', 'Longitude', 'Total_Hospital_Beds', 'Total_ICU_Beds',\n",
       "       'Available_Hospital_Beds', 'Potentially_Available_Hospital_Beds',\n",
       "       'Available_ICU_Beds', 'Potentially_Available_ICU_Beds',\n",
       "       'Adult_Population', 'Population_65.', 'Area_.sqmi.', 'Population',\n",
       "       'Pop_Density', 'Nearest_Hospital', 'Nearest_BigCity',\n",
       "       'day_before_index', 'day_before_cases', 'day_before_deaths'],\n",
       "      dtype='object')"
      ]
     },
     "execution_count": 254,
     "metadata": {},
     "output_type": "execute_result"
    }
   ],
   "source": [
    "DF.columns"
   ]
  },
  {
   "cell_type": "code",
   "execution_count": 255,
   "metadata": {},
   "outputs": [],
   "source": [
    "cols_drop = ['Unique_ID','date','county','state','fips','Latitude','Longitude','Total_Hospital_Beds', 'Total_ICU_Beds',\n",
    "       'Available_Hospital_Beds', 'Potentially_Available_Hospital_Beds',\n",
    "       'Available_ICU_Beds', 'Potentially_Available_ICU_Beds',\n",
    "       'Adult_Population', 'Population_65.','Area_.sqmi.','day_before_index','cases','deaths']\n",
    "\n",
    "Holdout_Set_X,Holdout_Set_Y = Holdout_Set.drop(cols_drop,axis=1),Holdout_Set['cases']\n",
    "Training_Set_X,Training_Set_Y = Training_Set.drop(cols_drop,axis=1),Training_Set['cases']"
   ]
  },
  {
   "cell_type": "code",
   "execution_count": 257,
   "metadata": {},
   "outputs": [],
   "source": [
    "Holdout_Set_X.to_csv('output/Holdout_Set_X.csv',index=True)\n",
    "Holdout_Set_Y.to_csv('output/Holdout_Set_Y.csv',index=True)\n",
    "Training_Set_X.to_csv('output/Training_Set_X.csv',index=True)\n",
    "Training_Set_X.to_csv('output/Training_Set_Y.csv',index=True)"
   ]
  },
  {
   "cell_type": "code",
   "execution_count": null,
   "metadata": {},
   "outputs": [],
   "source": []
  }
 ],
 "metadata": {
  "kernelspec": {
   "display_name": "Python 3",
   "language": "python",
   "name": "python3"
  },
  "language_info": {
   "codemirror_mode": {
    "name": "ipython",
    "version": 3
   },
   "file_extension": ".py",
   "mimetype": "text/x-python",
   "name": "python",
   "nbconvert_exporter": "python",
   "pygments_lexer": "ipython3",
   "version": "3.6.8"
  }
 },
 "nbformat": 4,
 "nbformat_minor": 4
}
